{
 "cells": [
  {
   "cell_type": "markdown",
   "metadata": {},
   "source": [
    "# Criteria air pollutants in Mexico City monitored since 1986"
   ]
  },
  {
   "cell_type": "markdown",
   "metadata": {},
   "source": [
    "This document explains the Data Science workflow I went through, from extracting _open data_ to comunicating my conclusions, regarding the criteria pollutants and their impact on air quality and public health.\n",
    "\n",
    "## Data Science Workflow\n",
    "<img src=\"https://ismayc.github.io/moderndiver-book/images/tidy1.png\" alt=\"Data Science Workflow import tidy transform understand communicate\" title=\"Data_Science_Workflow\" width=\"400\" />\n",
    "\n",
    "# 1. Objective\n",
    "Determine wether **no-driving days** have improved air quality in Mexico City and if there has been also an improvement in public health. Policy makers may find the results useful and evaluate the neccesity of implementing these kind of measurments in other fast-growing cities like Monterrey or Guadalajara.\n",
    "\n",
    "# 2. Extracting and loading data\n",
    "Look at the [criteria air pollutants in Mexico City data](http://www.aire.cdmx.gob.mx/default.php?opc=%27aKBhnmI=%27&opcion=Zg==) and notice that:\n",
    "1. Files store pollutants since 1986 up to date.\n",
    "2. Headers are inconsistant among files.\n",
    "3. Observations start at row 11.\n",
    "\n",
    "To read the data, one should:\n",
    "1. Create _list comprehensions_ `list_comps` by reading the csv files, starting at row 11 without headers for each `url_name` beginning at 1986.\n",
    "2. Concatenate the lists into a single Data Frame `df`.\n",
    "3. Create a list `col_names` that contains relevant variable names.\n",
    "4. Assign the `col_names` to the Data Frame columns `df.columns`."
   ]
  },
  {
   "cell_type": "code",
   "execution_count": 1,
   "metadata": {},
   "outputs": [],
   "source": [
    "import numpy as np\n",
    "import pandas as pd\n",
    "import matplotlib.pyplot as plt\n",
    "import matplotlib as mpl\n",
    "\n",
    "url_name = 'http://148.243.232.112:8080/opendata/anuales_horarios/contaminantes_{}.csv'"
   ]
  },
  {
   "cell_type": "code",
   "execution_count": 2,
   "metadata": {},
   "outputs": [],
   "source": [
    "list_comps = [pd.read_csv(url_name.format(i), skiprows=11, header=None) for i in range(1986, 2019)]\n",
    "df = pd.concat(list_comps)\n",
    "col_names = ['date', 'station', 'pollutant', 'concentration', 'unit']\n",
    "df.columns = col_names"
   ]
  },
  {
   "cell_type": "markdown",
   "metadata": {},
   "source": [
    "## 3. Exploratory data analysis (EDA)\n",
    "Use the `head()`, `tail()`and `info()` methods to perform an EDA."
   ]
  },
  {
   "cell_type": "code",
   "execution_count": 3,
   "metadata": {},
   "outputs": [
    {
     "data": {
      "text/html": [
       "<div>\n",
       "<style scoped>\n",
       "    .dataframe tbody tr th:only-of-type {\n",
       "        vertical-align: middle;\n",
       "    }\n",
       "\n",
       "    .dataframe tbody tr th {\n",
       "        vertical-align: top;\n",
       "    }\n",
       "\n",
       "    .dataframe thead th {\n",
       "        text-align: right;\n",
       "    }\n",
       "</style>\n",
       "<table border=\"1\" class=\"dataframe\">\n",
       "  <thead>\n",
       "    <tr style=\"text-align: right;\">\n",
       "      <th></th>\n",
       "      <th>date</th>\n",
       "      <th>station</th>\n",
       "      <th>pollutant</th>\n",
       "      <th>concentration</th>\n",
       "      <th>unit</th>\n",
       "    </tr>\n",
       "  </thead>\n",
       "  <tbody>\n",
       "    <tr>\n",
       "      <th>0</th>\n",
       "      <td>01/01/1986 01:00</td>\n",
       "      <td>LAG</td>\n",
       "      <td>CO</td>\n",
       "      <td>NaN</td>\n",
       "      <td>15</td>\n",
       "    </tr>\n",
       "    <tr>\n",
       "      <th>1</th>\n",
       "      <td>01/01/1986 01:00</td>\n",
       "      <td>TLA</td>\n",
       "      <td>CO</td>\n",
       "      <td>NaN</td>\n",
       "      <td>15</td>\n",
       "    </tr>\n",
       "    <tr>\n",
       "      <th>2</th>\n",
       "      <td>01/01/1986 01:00</td>\n",
       "      <td>XAL</td>\n",
       "      <td>CO</td>\n",
       "      <td>NaN</td>\n",
       "      <td>15</td>\n",
       "    </tr>\n",
       "    <tr>\n",
       "      <th>3</th>\n",
       "      <td>01/01/1986 01:00</td>\n",
       "      <td>MER</td>\n",
       "      <td>CO</td>\n",
       "      <td>NaN</td>\n",
       "      <td>15</td>\n",
       "    </tr>\n",
       "    <tr>\n",
       "      <th>4</th>\n",
       "      <td>01/01/1986 01:00</td>\n",
       "      <td>PED</td>\n",
       "      <td>CO</td>\n",
       "      <td>NaN</td>\n",
       "      <td>15</td>\n",
       "    </tr>\n",
       "  </tbody>\n",
       "</table>\n",
       "</div>"
      ],
      "text/plain": [
       "               date station pollutant  concentration  unit\n",
       "0  01/01/1986 01:00     LAG        CO            NaN    15\n",
       "1  01/01/1986 01:00     TLA        CO            NaN    15\n",
       "2  01/01/1986 01:00     XAL        CO            NaN    15\n",
       "3  01/01/1986 01:00     MER        CO            NaN    15\n",
       "4  01/01/1986 01:00     PED        CO            NaN    15"
      ]
     },
     "execution_count": 3,
     "metadata": {},
     "output_type": "execute_result"
    }
   ],
   "source": [
    "df.head()"
   ]
  },
  {
   "cell_type": "code",
   "execution_count": 4,
   "metadata": {},
   "outputs": [
    {
     "data": {
      "text/html": [
       "<div>\n",
       "<style scoped>\n",
       "    .dataframe tbody tr th:only-of-type {\n",
       "        vertical-align: middle;\n",
       "    }\n",
       "\n",
       "    .dataframe tbody tr th {\n",
       "        vertical-align: top;\n",
       "    }\n",
       "\n",
       "    .dataframe thead th {\n",
       "        text-align: right;\n",
       "    }\n",
       "</style>\n",
       "<table border=\"1\" class=\"dataframe\">\n",
       "  <thead>\n",
       "    <tr style=\"text-align: right;\">\n",
       "      <th></th>\n",
       "      <th>date</th>\n",
       "      <th>station</th>\n",
       "      <th>pollutant</th>\n",
       "      <th>concentration</th>\n",
       "      <th>unit</th>\n",
       "    </tr>\n",
       "  </thead>\n",
       "  <tbody>\n",
       "    <tr>\n",
       "      <th>1405507</th>\n",
       "      <td>31/08/2018 24:00</td>\n",
       "      <td>INN</td>\n",
       "      <td>PM2.5</td>\n",
       "      <td>NaN</td>\n",
       "      <td>2</td>\n",
       "    </tr>\n",
       "    <tr>\n",
       "      <th>1405508</th>\n",
       "      <td>31/08/2018 24:00</td>\n",
       "      <td>INN</td>\n",
       "      <td>PMCO</td>\n",
       "      <td>NaN</td>\n",
       "      <td>2</td>\n",
       "    </tr>\n",
       "    <tr>\n",
       "      <th>1405509</th>\n",
       "      <td>31/08/2018 24:00</td>\n",
       "      <td>INN</td>\n",
       "      <td>SO2</td>\n",
       "      <td>NaN</td>\n",
       "      <td>1</td>\n",
       "    </tr>\n",
       "    <tr>\n",
       "      <th>1405510</th>\n",
       "      <td>31/08/2018 24:00</td>\n",
       "      <td>GAM</td>\n",
       "      <td>O3</td>\n",
       "      <td>26.0</td>\n",
       "      <td>1</td>\n",
       "    </tr>\n",
       "    <tr>\n",
       "      <th>1405511</th>\n",
       "      <td>31/08/2018 24:00</td>\n",
       "      <td>GAM</td>\n",
       "      <td>PM2.5</td>\n",
       "      <td>12.0</td>\n",
       "      <td>2</td>\n",
       "    </tr>\n",
       "  </tbody>\n",
       "</table>\n",
       "</div>"
      ],
      "text/plain": [
       "                     date station pollutant  concentration  unit\n",
       "1405507  31/08/2018 24:00     INN     PM2.5            NaN     2\n",
       "1405508  31/08/2018 24:00     INN      PMCO            NaN     2\n",
       "1405509  31/08/2018 24:00     INN       SO2            NaN     1\n",
       "1405510  31/08/2018 24:00     GAM        O3           26.0     1\n",
       "1405511  31/08/2018 24:00     GAM     PM2.5           12.0     2"
      ]
     },
     "execution_count": 4,
     "metadata": {},
     "output_type": "execute_result"
    }
   ],
   "source": [
    "df.tail()"
   ]
  },
  {
   "cell_type": "code",
   "execution_count": 5,
   "metadata": {},
   "outputs": [
    {
     "name": "stdout",
     "output_type": "stream",
     "text": [
      "<class 'pandas.core.frame.DataFrame'>\n",
      "Int64Index: 36994584 entries, 0 to 1405511\n",
      "Data columns (total 5 columns):\n",
      "date             object\n",
      "station          object\n",
      "pollutant        object\n",
      "concentration    float64\n",
      "unit             int64\n",
      "dtypes: float64(1), int64(1), object(3)\n",
      "memory usage: 1.7+ GB\n"
     ]
    }
   ],
   "source": [
    "df.info()"
   ]
  },
  {
   "cell_type": "code",
   "execution_count": 6,
   "metadata": {},
   "outputs": [
    {
     "data": {
      "text/plain": [
       "(36994584, 5)"
      ]
     },
     "execution_count": 6,
     "metadata": {},
     "output_type": "execute_result"
    }
   ],
   "source": [
    "df.shape"
   ]
  },
  {
   "cell_type": "markdown",
   "metadata": {},
   "source": [
    "These methods show that:\n",
    "- The data is tidy.\n",
    "- The `date` column contains date time information as dtype `object`, i.e., it is stored as text `string` instead of a `datetime64`.\n",
    "- The dates are written in a `day/month/year hour:minute` format. \n",
    "- Some dates are written in a 24-hour format which will raise an error when appling `pd.to_datetime` to the column `date`.\n",
    "- Many concentration values were imported as *Not a Number* (`NaN`) when there were no pollutants in the air (`value=0`).\n",
    "\n",
    "These are the first issues that require a cleaning treatment."
   ]
  },
  {
   "cell_type": "markdown",
   "metadata": {},
   "source": [
    "## 4. Cleaning data\n",
    "### 4.1 Datetime index\n",
    "To solve the format problem in the `date` column:\n",
    "1. Use `str.replace()` vectorized function to replace all 24:00 observations with 23:59, that is, substract one minute.\n",
    "2. Convert the date `object` to `datetime64` with the pandas `to_datetime` function so that calculations can be performed. Include `format=\"%d/%m/%Y %H:%M\"` to speed up the convertion.\n",
    "3. Set the new date column as the index of the dataframe with the `set_index` function specifing `inplace=True`.\n"
   ]
  },
  {
   "cell_type": "code",
   "execution_count": 7,
   "metadata": {},
   "outputs": [],
   "source": [
    "df.date = df.date.str.replace('24:00', '23:59')\n",
    "df.date = pd.to_datetime(df.date, format=\"%d/%m/%Y %H:%M\")\n",
    "df.set_index('date', inplace=True)"
   ]
  },
  {
   "cell_type": "markdown",
   "metadata": {},
   "source": [
    "### 4.2 Missing values\n",
    "One can find out also the _missing values_ in all columns, that is, the number of values that were recorded as `NaN` instead of 0.\n",
    "\n",
    "To do so, let's chain `isnull().sum()` methods to the complete dataframe."
   ]
  },
  {
   "cell_type": "code",
   "execution_count": 8,
   "metadata": {},
   "outputs": [
    {
     "data": {
      "text/plain": [
       "station                0\n",
       "pollutant              0\n",
       "concentration    6604964\n",
       "unit                   0\n",
       "dtype: int64"
      ]
     },
     "execution_count": 8,
     "metadata": {},
     "output_type": "execute_result"
    }
   ],
   "source": [
    "df.isnull().sum()"
   ]
  },
  {
   "cell_type": "markdown",
   "metadata": {},
   "source": [
    "Here, one can see that `'concentration'` is the only column containing missing values."
   ]
  },
  {
   "cell_type": "code",
   "execution_count": 9,
   "metadata": {},
   "outputs": [
    {
     "data": {
      "text/plain": [
       "(6604964, 4)"
      ]
     },
     "execution_count": 9,
     "metadata": {},
     "output_type": "execute_result"
    }
   ],
   "source": [
    "missing_vals = df[df.concentration.isnull()]\n",
    "missing_vals.shape"
   ]
  },
  {
   "cell_type": "markdown",
   "metadata": {},
   "source": [
    "One can assume the concentration of pollutants was null for those moments, so it is possible to fill in the missing values (`NaN`) with 0 by applying `fillna(0)` method and specifying `inplace=True`.\n",
    "\n",
    "Then, let's review again the `head()`, `tail()`and `info()` methods."
   ]
  },
  {
   "cell_type": "code",
   "execution_count": 10,
   "metadata": {},
   "outputs": [
    {
     "data": {
      "text/html": [
       "<div>\n",
       "<style scoped>\n",
       "    .dataframe tbody tr th:only-of-type {\n",
       "        vertical-align: middle;\n",
       "    }\n",
       "\n",
       "    .dataframe tbody tr th {\n",
       "        vertical-align: top;\n",
       "    }\n",
       "\n",
       "    .dataframe thead th {\n",
       "        text-align: right;\n",
       "    }\n",
       "</style>\n",
       "<table border=\"1\" class=\"dataframe\">\n",
       "  <thead>\n",
       "    <tr style=\"text-align: right;\">\n",
       "      <th></th>\n",
       "      <th>station</th>\n",
       "      <th>pollutant</th>\n",
       "      <th>concentration</th>\n",
       "      <th>unit</th>\n",
       "    </tr>\n",
       "    <tr>\n",
       "      <th>date</th>\n",
       "      <th></th>\n",
       "      <th></th>\n",
       "      <th></th>\n",
       "      <th></th>\n",
       "    </tr>\n",
       "  </thead>\n",
       "  <tbody>\n",
       "    <tr>\n",
       "      <th>1986-01-01 01:00:00</th>\n",
       "      <td>LAG</td>\n",
       "      <td>CO</td>\n",
       "      <td>0.0</td>\n",
       "      <td>15</td>\n",
       "    </tr>\n",
       "    <tr>\n",
       "      <th>1986-01-01 01:00:00</th>\n",
       "      <td>TLA</td>\n",
       "      <td>CO</td>\n",
       "      <td>0.0</td>\n",
       "      <td>15</td>\n",
       "    </tr>\n",
       "    <tr>\n",
       "      <th>1986-01-01 01:00:00</th>\n",
       "      <td>XAL</td>\n",
       "      <td>CO</td>\n",
       "      <td>0.0</td>\n",
       "      <td>15</td>\n",
       "    </tr>\n",
       "    <tr>\n",
       "      <th>1986-01-01 01:00:00</th>\n",
       "      <td>MER</td>\n",
       "      <td>CO</td>\n",
       "      <td>0.0</td>\n",
       "      <td>15</td>\n",
       "    </tr>\n",
       "    <tr>\n",
       "      <th>1986-01-01 01:00:00</th>\n",
       "      <td>PED</td>\n",
       "      <td>CO</td>\n",
       "      <td>0.0</td>\n",
       "      <td>15</td>\n",
       "    </tr>\n",
       "  </tbody>\n",
       "</table>\n",
       "</div>"
      ],
      "text/plain": [
       "                    station pollutant  concentration  unit\n",
       "date                                                      \n",
       "1986-01-01 01:00:00     LAG        CO            0.0    15\n",
       "1986-01-01 01:00:00     TLA        CO            0.0    15\n",
       "1986-01-01 01:00:00     XAL        CO            0.0    15\n",
       "1986-01-01 01:00:00     MER        CO            0.0    15\n",
       "1986-01-01 01:00:00     PED        CO            0.0    15"
      ]
     },
     "execution_count": 10,
     "metadata": {},
     "output_type": "execute_result"
    }
   ],
   "source": [
    "df.concentration.fillna(0, inplace=True)\n",
    "df.head()"
   ]
  },
  {
   "cell_type": "code",
   "execution_count": 11,
   "metadata": {},
   "outputs": [
    {
     "data": {
      "text/html": [
       "<div>\n",
       "<style scoped>\n",
       "    .dataframe tbody tr th:only-of-type {\n",
       "        vertical-align: middle;\n",
       "    }\n",
       "\n",
       "    .dataframe tbody tr th {\n",
       "        vertical-align: top;\n",
       "    }\n",
       "\n",
       "    .dataframe thead th {\n",
       "        text-align: right;\n",
       "    }\n",
       "</style>\n",
       "<table border=\"1\" class=\"dataframe\">\n",
       "  <thead>\n",
       "    <tr style=\"text-align: right;\">\n",
       "      <th></th>\n",
       "      <th>station</th>\n",
       "      <th>pollutant</th>\n",
       "      <th>concentration</th>\n",
       "      <th>unit</th>\n",
       "    </tr>\n",
       "    <tr>\n",
       "      <th>date</th>\n",
       "      <th></th>\n",
       "      <th></th>\n",
       "      <th></th>\n",
       "      <th></th>\n",
       "    </tr>\n",
       "  </thead>\n",
       "  <tbody>\n",
       "    <tr>\n",
       "      <th>2018-08-31 23:59:00</th>\n",
       "      <td>INN</td>\n",
       "      <td>PM2.5</td>\n",
       "      <td>0.0</td>\n",
       "      <td>2</td>\n",
       "    </tr>\n",
       "    <tr>\n",
       "      <th>2018-08-31 23:59:00</th>\n",
       "      <td>INN</td>\n",
       "      <td>PMCO</td>\n",
       "      <td>0.0</td>\n",
       "      <td>2</td>\n",
       "    </tr>\n",
       "    <tr>\n",
       "      <th>2018-08-31 23:59:00</th>\n",
       "      <td>INN</td>\n",
       "      <td>SO2</td>\n",
       "      <td>0.0</td>\n",
       "      <td>1</td>\n",
       "    </tr>\n",
       "    <tr>\n",
       "      <th>2018-08-31 23:59:00</th>\n",
       "      <td>GAM</td>\n",
       "      <td>O3</td>\n",
       "      <td>26.0</td>\n",
       "      <td>1</td>\n",
       "    </tr>\n",
       "    <tr>\n",
       "      <th>2018-08-31 23:59:00</th>\n",
       "      <td>GAM</td>\n",
       "      <td>PM2.5</td>\n",
       "      <td>12.0</td>\n",
       "      <td>2</td>\n",
       "    </tr>\n",
       "  </tbody>\n",
       "</table>\n",
       "</div>"
      ],
      "text/plain": [
       "                    station pollutant  concentration  unit\n",
       "date                                                      \n",
       "2018-08-31 23:59:00     INN     PM2.5            0.0     2\n",
       "2018-08-31 23:59:00     INN      PMCO            0.0     2\n",
       "2018-08-31 23:59:00     INN       SO2            0.0     1\n",
       "2018-08-31 23:59:00     GAM        O3           26.0     1\n",
       "2018-08-31 23:59:00     GAM     PM2.5           12.0     2"
      ]
     },
     "execution_count": 11,
     "metadata": {},
     "output_type": "execute_result"
    }
   ],
   "source": [
    "df.tail()"
   ]
  },
  {
   "cell_type": "code",
   "execution_count": 12,
   "metadata": {},
   "outputs": [
    {
     "name": "stdout",
     "output_type": "stream",
     "text": [
      "<class 'pandas.core.frame.DataFrame'>\n",
      "DatetimeIndex: 36994584 entries, 1986-01-01 01:00:00 to 2018-08-31 23:59:00\n",
      "Data columns (total 4 columns):\n",
      "station          object\n",
      "pollutant        object\n",
      "concentration    float64\n",
      "unit             int64\n",
      "dtypes: float64(1), int64(1), object(2)\n",
      "memory usage: 1.4+ GB\n"
     ]
    }
   ],
   "source": [
    "df.info()"
   ]
  },
  {
   "cell_type": "code",
   "execution_count": 13,
   "metadata": {},
   "outputs": [
    {
     "data": {
      "text/plain": [
       "(36994584, 4)"
      ]
     },
     "execution_count": 13,
     "metadata": {},
     "output_type": "execute_result"
    }
   ],
   "source": [
    "df.shape"
   ]
  },
  {
   "cell_type": "markdown",
   "metadata": {},
   "source": [
    "Let's chain `isnull().sum()` methods to the complete dataframe to check out for missing values one last time."
   ]
  },
  {
   "cell_type": "code",
   "execution_count": 14,
   "metadata": {},
   "outputs": [
    {
     "data": {
      "text/plain": [
       "station          0\n",
       "pollutant        0\n",
       "concentration    0\n",
       "unit             0\n",
       "dtype: int64"
      ]
     },
     "execution_count": 14,
     "metadata": {},
     "output_type": "execute_result"
    }
   ],
   "source": [
    "df.isnull().sum()"
   ]
  },
  {
   "cell_type": "markdown",
   "metadata": {},
   "source": [
    "The last results verify that there aren't missing values anymore. So let's move on to a visual exploratory data analysis with this new dataframe.\n",
    "## Visual Exploratory Data Analysis (Visual EDA)\n",
    "Plot the concentration of pollutants as a time series to visualize the data."
   ]
  },
  {
   "cell_type": "code",
   "execution_count": 15,
   "metadata": {
    "scrolled": true
   },
   "outputs": [
    {
     "data": {
      "image/png": "[encoded data removed]",
      "text/plain": [
       "<Figure size 432x288 with 1 Axes>"
      ]
     },
     "metadata": {},
     "output_type": "display_data"
    }
   ],
   "source": [
    "%matplotlib inline\n",
    "\n",
    "mpl.rcParams['agg.path.chunksize'] = 10000\n",
    "\n",
    "plt.plot(df.concentration)\n",
    "plt.title(\"Pollution over time\")\n",
    "plt.xlabel(\"Year\")\n",
    "plt.ylabel(\"Concentration\")\n",
    "plt.show()"
   ]
  },
  {
   "cell_type": "markdown",
   "metadata": {},
   "source": [
    "In accordance with the [Air Quality Index Standard](http://www.aire.cdmx.gob.mx/descargas/monitoreo/normatividad/NADF-009-AIRE-2006.pdf), one has to apply some equations of transformation to the `concentration` values depending on the `unit` and `pollutant` to get a standard scale for all the pollutants.\n",
    "\n",
    "To do so, first one should see which values are used for units."
   ]
  },
  {
   "cell_type": "code",
   "execution_count": 16,
   "metadata": {},
   "outputs": [
    {
     "data": {
      "text/plain": [
       "1     25317768\n",
       "15     6099744\n",
       "2      5577072\n",
       "Name: unit, dtype: int64"
      ]
     },
     "execution_count": 16,
     "metadata": {},
     "output_type": "execute_result"
    }
   ],
   "source": [
    "df.unit.value_counts()"
   ]
  },
  {
   "cell_type": "markdown",
   "metadata": {},
   "source": [
    "One can see that `unit` contains only 1, 2 and 15 values as categories when applying `value_counts()` method.<br>\n",
    "Let's do the same for the pollutants."
   ]
  },
  {
   "cell_type": "code",
   "execution_count": 17,
   "metadata": {},
   "outputs": [
    {
     "data": {
      "text/plain": [
       "SO2      6647376\n",
       "CO       6099744\n",
       "O3       5760768\n",
       "NO2      4878816\n",
       "NOX      4878816\n",
       "PM10     3239328\n",
       "NO       3151992\n",
       "PM2.5    1673496\n",
       "PMCO      664248\n",
       "Name: pollutant, dtype: int64"
      ]
     },
     "execution_count": 17,
     "metadata": {},
     "output_type": "execute_result"
    }
   ],
   "source": [
    "df.pollutant.value_counts()"
   ]
  },
  {
   "cell_type": "markdown",
   "metadata": {},
   "source": [
    "Now let's use a scatter plot to visualise the relationship between pollutants and the units that meassure their concentrations."
   ]
  },
  {
   "cell_type": "code",
   "execution_count": 18,
   "metadata": {},
   "outputs": [
    {
     "data": {
      "image/png": "[encoded data removed]",
      "text/plain": [
       "<Figure size 432x288 with 1 Axes>"
      ]
     },
     "metadata": {},
     "output_type": "display_data"
    }
   ],
   "source": [
    "plt.scatter(df.pollutant, df.unit)\n",
    "plt.title(\"Unit vs pollutant\")\n",
    "plt.xlabel(\"Pollutant\")\n",
    "plt.ylabel(\"Unit\")\n",
    "plt.show()"
   ]
  },
  {
   "cell_type": "markdown",
   "metadata": {},
   "source": [
    "Here one can see that:\n",
    "* Only CO is represented by unit 15.\n",
    "* PM10, PM2.5 and PMCO are represented by unit 2.\n",
    "* The rest, including nitrogen oxides (NO2, NOX and NO) are represented by unit 1.\n",
    "\n",
    "Observations:\n",
    "* PMCO is not a pollutant. Since it uses unit 2 as the other _Particulated Matter_ (PM), one can supose the correct name is either PM10 or PM2.5 so I will choose PM10.\n",
    "* NOX is not a clear pollutant name. It could refer to NO or NO2. Besides, it seems like NOX and NO2 are duplicates since they both show the same value 4878816 according to `value_counts()` method."
   ]
  },
  {
   "cell_type": "code",
   "execution_count": 19,
   "metadata": {},
   "outputs": [],
   "source": [
    "df_PMCO = df[df.pollutant=='PMCO']"
   ]
  },
  {
   "cell_type": "code",
   "execution_count": 20,
   "metadata": {},
   "outputs": [
    {
     "data": {
      "image/png": "[encoded data removed]",
      "text/plain": [
       "<Figure size 432x288 with 1 Axes>"
      ]
     },
     "metadata": {},
     "output_type": "display_data"
    }
   ],
   "source": [
    "plt.plot(df_PMCO.concentration)\n",
    "plt.title(\"PMCO over time\")\n",
    "plt.xlabel(\"Year\")\n",
    "plt.ylabel(\"Concentration\")\n",
    "plt.show()"
   ]
  },
  {
   "cell_type": "code",
   "execution_count": 21,
   "metadata": {},
   "outputs": [],
   "source": [
    "df_NOX = df[df.pollutant=='NOX']"
   ]
  },
  {
   "cell_type": "code",
   "execution_count": 22,
   "metadata": {},
   "outputs": [
    {
     "data": {
      "image/png": "[encoded data removed]",
      "text/plain": [
       "<Figure size 432x288 with 1 Axes>"
      ]
     },
     "metadata": {},
     "output_type": "display_data"
    }
   ],
   "source": [
    "plt.plot(df_NOX.concentration)\n",
    "plt.title(\"NOX over time\")\n",
    "plt.xlabel(\"Year\")\n",
    "plt.ylabel(\"Concentration\")\n",
    "plt.show()"
   ]
  },
  {
   "cell_type": "code",
   "execution_count": null,
   "metadata": {},
   "outputs": [],
   "source": []
  }
 ],
 "metadata": {
  "kernelspec": {
   "display_name": "Python 3",
   "language": "python",
   "name": "python3"
  },
  "language_info": {
   "codemirror_mode": {
    "name": "ipython",
    "version": 3
   },
   "file_extension": ".py",
   "mimetype": "text/x-python",
   "name": "python",
   "nbconvert_exporter": "python",
   "pygments_lexer": "ipython3",
   "version": "3.6.5"
  }
 },
 "nbformat": 4,
 "nbformat_minor": 2
}
